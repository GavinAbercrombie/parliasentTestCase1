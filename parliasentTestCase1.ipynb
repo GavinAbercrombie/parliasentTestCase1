{
 "cells": [
  {
   "cell_type": "code",
   "execution_count": null,
   "metadata": {},
   "outputs": [],
   "source": [
    "# load debate data\n",
    "import csv\n",
    "data = (open('resources/QEC Parliament.csv', 'r', encoding='mac_roman'))"
   ]
  },
  {
   "cell_type": "markdown",
   "metadata": {},
   "source": [
    "### Lexicon approach"
   ]
  },
  {
   "cell_type": "code",
   "execution_count": null,
   "metadata": {
    "collapsed": true
   },
   "outputs": [],
   "source": [
    "from collections import OrderedDict\n",
    "\n",
    "debates = csv.reader(data)\n",
    "data.seek(0) # reset csv reader\n",
    "\n",
    "# get nested dict with lists of statements by party for each date\n",
    "debates_over_time = {}\n",
    "for row in debates:\n",
    "    if row[-2] not in debates_over_time:\n",
    "        debates_over_time[row[-2]] = OrderedDict()\n",
    "    if row[0] not in debates_over_time[row[-2]]:\n",
    "        debates_over_time[row[-2]][row[0]] = [row[-1]]\n",
    "    else:\n",
    "        debates_over_time[row[-2]][row[0]].append(row[-1])"
   ]
  },
  {
   "cell_type": "code",
   "execution_count": null,
   "metadata": {},
   "outputs": [],
   "source": [
    "from nltk import word_tokenize, pos_tag # pos tagging\n",
    "from nltk.corpus import sentiwordnet as swn\n",
    "from nltk import download\n",
    "download('punkt')\n",
    "download('averaged_perceptron_tagger')\n",
    "download('sentiwordnet')\n",
    "download('wordnet')\n",
    "\n",
    "pos_dict = {'v': 'V', 'n': 'NN', 'r': 'RB', 'a': 'JJ'} # translate between sentiwordnet and nltk pos tag schema\n",
    "\n",
    "\nprint('Date    | Score | Polarity')\n",
    "\n",
    "# for each party, for each day/debate, print sentiment score \n",
    "for key, val in debates_over_time.items():\n",
    "    print('\\n',key)\n",
    "    for k, v in val.items():\n",
    "        score = 0.0\n",
    "        polarity = ''\n",
    "        for statement in v:\n",
    "            for word in pos_tag(word_tokenize(statement)):\n",
    "                for key, val in pos_dict.items():\n",
    "                    if val in word[1]:\n",
    "                        try:\n",
    "                            score += list(swn.senti_synsets(word[0].lower(),key))[0].pos_score() - \\\n",
    "                                        list(swn.senti_synsets(word[0].lower(),key))[0].neg_score()\n",
    "                        except:\n",
    "                            pass\n",
    "        if score > 0.0:\n",
    "            polarity = 'Positive'\n",
    "        elif score < 0.0:\n",
    "            polarity = 'Negative'\n",
    "        else:\n",
    "            polarity = 'Neutral'\n",
    "        print(k, score, polarity)"
   ]
  },
  {
   "cell_type": "markdown",
   "metadata": {},
   "source": [
    "### Machine learning approach"
   ]
  },
  {
   "cell_type": "code",
   "execution_count": null,
   "metadata": {
    "collapsed": true
   },
   "outputs": [],
   "source": [
    "debates = csv.reader(data)\n",
    "data.seek(0) # reset csv reader\n",
    "\n",
    "debates_dict = {}\n",
    "\n",
    "for row in debates:\n",
    "    date = row[0].split('/')[2] + row[0].split('/')[1] + row[0].split('/')[0]\n",
    "    if date + ' ' + row[3] not in debates_dict:\n",
    "        debates_dict[date + ' ' + row[3]] = ['','','', '',\n",
    "                                             '', row[-1], '', '', '', '',\n",
    "                                             '', '', row[5], row[3], 0]\n",
    "    else:\n",
    "        for i in range(6,10):\n",
    "            if debates_dict[date + ' ' + row[3]][i] == '':\n",
    "                debates_dict[date + ' ' + row[3]][i] = row[-1]\n",
    "                break\n",
    "\n",
    "debates_dict2 = {}\n",
    "                \n",
    "for k, v in debates_dict.items():\n",
    "    debates_dict2[k] = k + ', ' + str(v)[1:-1]"
   ]
  },
  {
   "cell_type": "code",
   "execution_count": null,
   "metadata": {},
   "outputs": [],
   "source": [
    "# load pretrained ML model\n",
    "import pickle\n",
    "with open('resources/pretrainedmodel.pkl', 'rb') as fin:\n",
    "    vectorizer, SVM = pickle.load(fin)"
   ]
  },
  {
   "cell_type": "code",
   "execution_count": null,
   "metadata": {},
   "outputs": [],
   "source": [
    "for key, val in debates_over_time.items():\n",
    "    print(key)\n",
    "    for k, v in val.items():\n",
    "        speech = ''\n",
    "        for i in v:\n",
    "            speech += i + ' '\n",
    "        X_new = vectorizer.transform([speech])\n",
    "        prediction = SVM.predict(X_new)[0]\n",
    "        if prediction == 1:\n",
    "            polarity = 'Positive'\n",
    "        else:\n",
    "            polarity = 'Negative'\n",
    "        print(k, SVM.predict(X_new)[0], polarity)\n",
    "    print('\\n')"
   ]
  },
  {
   "cell_type": "code",
   "execution_count": null,
   "metadata": {
    "collapsed": true
   },
   "outputs": [],
   "source": [
    "X_new = vectorizer.transform([\"approve great fantastic love\", \"condemn disgrace awful disappointing\"])"
   ]
  },
  {
   "cell_type": "code",
   "execution_count": null,
   "metadata": {},
   "outputs": [],
   "source": [
    "print(SVM.predict(X_new))"
   ]
  }
 ],
 "metadata": {
  "kernelspec": {
   "display_name": "Python 3",
   "language": "python",
   "name": "python3"
  },
  "language_info": {
   "codemirror_mode": {
    "name": "ipython",
    "version": 3
   },
   "file_extension": ".py",
   "mimetype": "text/x-python",
   "name": "python",
   "nbconvert_exporter": "python",
   "pygments_lexer": "ipython3",
   "version": "3.6.5"
  }
 },
 "nbformat": 4,
 "nbformat_minor": 2
}
