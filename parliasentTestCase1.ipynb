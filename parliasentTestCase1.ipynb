{
 "cells": [
  {
   "cell_type": "code",
   "execution_count": null,
   "metadata": {
    "collapsed": true
   },
   "outputs": [],
   "source": [
    "# load debate data\n",
    "import csv\n",
    "data = (open('resources/QEC Parliament.csv', 'r', encoding='mac_roman'))"
   ]
  },
  {
   "cell_type": "markdown",
   "metadata": {},
   "source": [
    "### Lexicon approach"
   ]
  },
  {
   "cell_type": "code",
   "execution_count": null,
   "metadata": {},
   "outputs": [],
   "source": [
    "# load sentiment lexicon\n",
    "sentiwordnet = open('resources/SentiWordNet_3.0.0.txt').read().split('\\n')"
   ]
  },
  {
   "cell_type": "code",
   "execution_count": null,
   "metadata": {},
   "outputs": [],
   "source": [
    "from collections import OrderedDict\n",
    "\n",
    "debates = csv.reader(data)\n",
    "data.seek(0) # reset csv reader\n",
    "\n",
    "# get nested dict with lists of statements by party for each date\n",
    "debates_over_time = {}\n",
    "for row in debates:\n",
    "    if row[-2] not in debates_over_time:\n",
    "        debates_over_time[row[-2]] = OrderedDict()\n",
    "    if row[0] not in debates_over_time[row[-2]]:\n",
    "        debates_over_time[row[-2]][row[0]] = [row[-1]]\n",
    "    else:\n",
    "        debates_over_time[row[-2]][row[0]].append(row[-1])"
   ]
  },
  {
   "cell_type": "code",
   "execution_count": null,
   "metadata": {},
   "outputs": [],
   "source": [
    "import spacy # pos tagging\n",
    "pos = spacy.load('en_core_web_sm')\n",
    "\n",
    "pos_dict = {'v': 'VER', 'n': 'NOU', 'r': 'ADV', 'a': 'ADJ'} # translate between sentiwordnet and spacy pos tag schema\n",
    "\n",
    "print('Date      | Score | Score with POS tagging')\n",
    "\n",
    "# for each party, for each day/debate, print sentiment score \n",
    "for key, val in debates_over_time.items():\n",
    "    print('\\n',key)\n",
    "    for k, v in val.items():\n",
    "        score, score_pos = 0.0, 0.0\n",
    "        for statement in v:\n",
    "            for word in pos(statement):\n",
    "                # look up word in lexicon\n",
    "                for line in sentiwordnet[:10]:\n",
    "                    if str(word).lower() == line.split()[4].split('#')[0]:\n",
    "                        score += float(line.split()[2]) - float(line.split()[3])\n",
    "                        if pos_dict[line.split()[0]] == word.pos_[:3]:\n",
    "                            score_pos += float(line.split()[2]) - float(line.split()[3])\n",
    "        print(k, score, score_pos)"
   ]
  },
  {
   "cell_type": "markdown",
   "metadata": {},
   "source": [
    "### Machine learning approach"
   ]
  },
  {
   "cell_type": "code",
   "execution_count": null,
   "metadata": {},
   "outputs": [],
   "source": [
    "# format needed = id,title,motion,manual motion,govt/opp motion,motion party affiliation,utt1,utt2,utt3,utt4,utt5,\n",
    "# manual speech,vote speech,party affiliation,name,rebellion %\n",
    "\n",
    "debates = csv.reader(data)\n",
    "data.seek(0) # reset csv reader\n",
    "\n",
    "debates_dict = {}\n",
    "\n",
    "for row in debates:\n",
    "    date = row[0].split('/')[2] + row[0].split('/')[1] + row[0].split('/')[0]\n",
    "    if date + ' ' + row[3] not in debates_dict:\n",
    "        debates_dict[date + ' ' + row[3]] = ['','','', '',\n",
    "                                             '', row[-1], '', '', '', '',\n",
    "                                             '', '', row[5], row[3], 0]\n",
    "    else:\n",
    "        for i in range(6,10):\n",
    "            if debates_dict[date + ' ' + row[3]][i] == '':\n",
    "                debates_dict[date + ' ' + row[3]][i] = row[-1]\n",
    "                break\n",
    "\n",
    "debates_dict2 = {}\n",
    "                \n",
    "for k, v in debates_dict.items():\n",
    "    debates_dict2[k] = k + ', ' + str(v)[1:-1]"
   ]
  },
  {
   "cell_type": "code",
   "execution_count": null,
   "metadata": {},
   "outputs": [],
   "source": [
    "# load pretrained ML model\n",
    "import pickle\n",
    "with open('pretrainedmodel.pkl', 'rb') as fin:\n",
    "    vectorizer, SVM = pickle.load(fin)"
   ]
  },
  {
   "cell_type": "code",
   "execution_count": null,
   "metadata": {},
   "outputs": [],
   "source": [
    "for key, val in debates_over_time.items():\n",
    "    print(key)\n",
    "    for k, v in val.items():\n",
    "        speech = ''\n",
    "        for i in v:\n",
    "            speech += i + ' '\n",
    "        X_new = vectorizer.transform([speech])\n",
    "        print(k, SVM.predict(X_new)[0])\n",
    "    print('\\n')"
   ]
  },
  {
   "cell_type": "code",
   "execution_count": null,
   "metadata": {
    "collapsed": true
   },
   "outputs": [],
   "source": [
    "X_new = vectorizer.transform([\"approve great fantastic love\", \"condemn disgrace awful disappointing\"])"
   ]
  },
  {
   "cell_type": "code",
   "execution_count": null,
   "metadata": {},
   "outputs": [],
   "source": [
    "print(SVM.predict(X_new))"
   ]
  }
 ],
 "metadata": {
  "kernelspec": {
   "display_name": "Python 3",
   "language": "python",
   "name": "python3"
  },
  "language_info": {
   "codemirror_mode": {
    "name": "ipython",
    "version": 3
   },
   "file_extension": ".py",
   "mimetype": "text/x-python",
   "name": "python",
   "nbconvert_exporter": "python",
   "pygments_lexer": "ipython3",
   "version": "3.5.6"
  }
 },
 "nbformat": 4,
 "nbformat_minor": 2
}
