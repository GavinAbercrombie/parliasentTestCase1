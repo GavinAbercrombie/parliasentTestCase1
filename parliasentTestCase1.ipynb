{
 "cells": [
  {
   "cell_type": "code",
   "execution_count": 1,
   "metadata": {},
   "outputs": [],
   "source": [
    "# load debate data\n",
    "import csv\n",
    "data = (open('../OisheeHansardDebates/QEC Parliament.csv', 'r', encoding='mac_roman'))"
   ]
  },
  {
   "cell_type": "markdown",
   "metadata": {},
   "source": [
    "### Lexicon approach"
   ]
  },
  {
   "cell_type": "code",
   "execution_count": 2,
   "metadata": {
    "collapsed": true
   },
   "outputs": [],
   "source": [
    "from collections import OrderedDict\n",
    "\n",
    "debates = csv.reader(data)\n",
    "data.seek(0) # reset csv reader\n",
    "\n",
    "# get nested dict with lists of statements by party for each date\n",
    "debates_over_time = {}\n",
    "for row in debates:\n",
    "    if row[-2] not in debates_over_time:\n",
    "        debates_over_time[row[-2]] = OrderedDict()\n",
    "    if row[0] not in debates_over_time[row[-2]]:\n",
    "        debates_over_time[row[-2]][row[0]] = [row[-1]]\n",
    "    else:\n",
    "        debates_over_time[row[-2]][row[0]].append(row[-1])"
   ]
  },
  {
   "cell_type": "code",
   "execution_count": 3,
   "metadata": {},
   "outputs": [
    {
     "name": "stdout",
     "output_type": "stream",
     "text": [
      "Date      | Score  | Polarity\n",
      "\n",
      " Lab\n",
      "09/12/2002 2.125 Positive\n",
      "30/01/2003 22.0 Positive\n",
      "02/03/2004 -1.875 Negative\n",
      "15/12/2004 2.5 Positive\n",
      "18/01/2007 4.25 Positive\n",
      "25/06/2007 1.25 Positive\n",
      "20/02/2012 0.25 Positive\n",
      "10/05/2012 12.25 Positive\n",
      "11/06/2012 0.0 Neutral\n",
      "25/02/2013 0.5 Positive\n",
      "27/11/2017 0.75 Positive\n",
      "\n",
      " LD\n",
      "09/12/2002 0.125 Positive\n",
      "30/01/2003 4.625 Positive\n",
      "02/03/2004 0.625 Positive\n",
      "15/12/2004 -0.375 Negative\n",
      "18/01/2007 1.125 Positive\n",
      "25/06/2007 0.25 Positive\n",
      "10/05/2012 1.0 Positive\n",
      "\n",
      " Con\n",
      "30/01/2003 6.5 Positive\n",
      "02/03/2004 0.875 Positive\n",
      "15/12/2004 -0.125 Negative\n",
      "18/01/2007 1.125 Positive\n",
      "25/06/2007 0.75 Positive\n",
      "20/02/2012 1.25 Positive\n",
      "10/05/2012 28.5 Positive\n",
      "11/06/2012 1.625 Positive\n",
      "25/02/2013 0.5 Positive\n",
      "27/11/2017 4.5 Positive\n",
      "\n",
      " NA\n",
      "30/01/2003 -0.125 Negative\n",
      "15/12/2004 0.0 Neutral\n",
      "10/05/2012 0.25 Positive\n",
      "\n",
      " Ulster Unionist Party\n",
      "30/01/2003 0.125 Positive\n",
      "\n",
      " Independent\n",
      "30/01/2003 0.125 Positive\n",
      "\n",
      " SNP\n",
      "30/01/2003 -0.75 Negative\n",
      "10/05/2012 0.25 Positive\n",
      "\n",
      " Crossbench\n",
      "02/03/2004 0.75 Positive\n",
      "15/12/2004 0.125 Positive\n",
      "18/01/2007 0.5 Positive\n",
      "25/06/2007 0.0 Neutral\n",
      "10/05/2012 0.875 Positive\n",
      "\n",
      " Bishops\n",
      "15/12/2004 0.75 Positive\n",
      "\n",
      " UKIP\n",
      "25/06/2007 0.0 Neutral\n",
      "\n",
      " Lab/Co-op\n",
      "25/02/2013 -0.125 Negative\n"
     ]
    }
   ],
   "source": [
    "from nltk import word_tokenize, pos_tag # pos tagging\n",
    "from nltk.corpus import sentiwordnet as swn\n",
    "#from nltk import download\n",
    "#download('punkt')\n",
    "#download('averaged_perceptron_tagger')\n",
    "\n",
    "pos_dict = {'v': 'V', 'n': 'NN', 'r': 'RB', 'a': 'JJ'} # translate between sentiwordnet and nltk pos tag schema\n",
    "\n",
    "print('Date      | Score  | Polarity')\n",
    "\n",
    "# for each party, for each day/debate, print sentiment score \n",
    "for key, val in debates_over_time.items():\n",
    "    print('\\n',key)\n",
    "    for k, v in val.items():\n",
    "        score = 0.0\n",
    "        polarity = ''\n",
    "        for statement in v:\n",
    "            for word in pos_tag(word_tokenize(statement)):\n",
    "                for key, val in pos_dict.items()\n",
    "                if 'NN' in word[1]:\n",
    "                    try:\n",
    "                        score += list(swn.senti_synsets(word[0].lower(),'n'))[0].pos_score() - \\\n",
    "                                    list(swn.senti_synsets(word[0].lower(),'n'))[0].neg_score()\n",
    "                            \n",
    "                    except:\n",
    "                        pass\n",
    "        if score > 0.0:\n",
    "            polarity = 'Positive'\n",
    "        elif score < 0.0:\n",
    "            polarity = 'Negative'\n",
    "        else:\n",
    "            polarity = 'Neutral'\n",
    "        print(k, score, polarity)"
   ]
  },
  {
   "cell_type": "markdown",
   "metadata": {},
   "source": [
    "### Machine learning approach"
   ]
  },
  {
   "cell_type": "code",
   "execution_count": null,
   "metadata": {
    "collapsed": true
   },
   "outputs": [],
   "source": [
    "debates = csv.reader(data)\n",
    "data.seek(0) # reset csv reader\n",
    "\n",
    "debates_dict = {}\n",
    "\n",
    "for row in debates:\n",
    "    date = row[0].split('/')[2] + row[0].split('/')[1] + row[0].split('/')[0]\n",
    "    if date + ' ' + row[3] not in debates_dict:\n",
    "        debates_dict[date + ' ' + row[3]] = ['','','', '',\n",
    "                                             '', row[-1], '', '', '', '',\n",
    "                                             '', '', row[5], row[3], 0]\n",
    "    else:\n",
    "        for i in range(6,10):\n",
    "            if debates_dict[date + ' ' + row[3]][i] == '':\n",
    "                debates_dict[date + ' ' + row[3]][i] = row[-1]\n",
    "                break\n",
    "\n",
    "debates_dict2 = {}\n",
    "                \n",
    "for k, v in debates_dict.items():\n",
    "    debates_dict2[k] = k + ', ' + str(v)[1:-1]"
   ]
  },
  {
   "cell_type": "code",
   "execution_count": null,
   "metadata": {},
   "outputs": [],
   "source": [
    "# load pretrained ML model\n",
    "import pickle\n",
    "with open('../resources/pretrainedmodel.pkl', 'rb') as fin:\n",
    "    vectorizer, SVM = pickle.load(fin)"
   ]
  },
  {
   "cell_type": "code",
   "execution_count": null,
   "metadata": {},
   "outputs": [],
   "source": [
    "for key, val in debates_over_time.items():\n",
    "    print(key)\n",
    "    for k, v in val.items():\n",
    "        speech = ''\n",
    "        for i in v:\n",
    "            speech += i + ' '\n",
    "        X_new = vectorizer.transform([speech])\n",
    "        prediction = SVM.predict(X_new)[0]\n",
    "        if prediction == 1:\n",
    "            polarity = 'Positive'\n",
    "        else:\n",
    "            polarity = 'Negative'\n",
    "        print(k, SVM.predict(X_new)[0], polarity)\n",
    "    print('\\n')"
   ]
  },
  {
   "cell_type": "code",
   "execution_count": null,
   "metadata": {
    "collapsed": true
   },
   "outputs": [],
   "source": [
    "X_new = vectorizer.transform([\"approve great fantastic love\", \"condemn disgrace awful disappointing\"])"
   ]
  },
  {
   "cell_type": "code",
   "execution_count": null,
   "metadata": {},
   "outputs": [],
   "source": [
    "print(SVM.predict(X_new))"
   ]
  },
  {
   "cell_type": "code",
   "execution_count": null,
   "metadata": {
    "collapsed": true
   },
   "outputs": [],
   "source": []
  }
 ],
 "metadata": {
  "kernelspec": {
   "display_name": "Python 3",
   "language": "python",
   "name": "python3"
  },
  "language_info": {
   "codemirror_mode": {
    "name": "ipython",
    "version": 3
   },
   "file_extension": ".py",
   "mimetype": "text/x-python",
   "name": "python",
   "nbconvert_exporter": "python",
   "pygments_lexer": "ipython3",
   "version": "3.6.5"
  }
 },
 "nbformat": 4,
 "nbformat_minor": 2
}
